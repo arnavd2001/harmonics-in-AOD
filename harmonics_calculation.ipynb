{
  "nbformat": 4,
  "nbformat_minor": 0,
  "metadata": {
    "colab": {
      "name": "harmonics calculation.ipynb",
      "provenance": [],
      "collapsed_sections": [],
      "authorship_tag": "ABX9TyP/Hns03gBA5XJuhNq4p4Qj",
      "include_colab_link": true
    },
    "kernelspec": {
      "name": "python3",
      "display_name": "Python 3"
    },
    "language_info": {
      "name": "python"
    }
  },
  "cells": [
    {
      "cell_type": "markdown",
      "metadata": {
        "id": "view-in-github",
        "colab_type": "text"
      },
      "source": [
        "<a href=\"https://colab.research.google.com/github/arnavd2001/harmonics-in-AOD/blob/main/harmonics_calculation.ipynb\" target=\"_parent\"><img src=\"https://colab.research.google.com/assets/colab-badge.svg\" alt=\"Open In Colab\"/></a>"
      ]
    },
    {
      "cell_type": "code",
      "execution_count": null,
      "metadata": {
        "colab": {
          "base_uri": "https://localhost:8080/"
        },
        "id": "9W-2cCvgShPK",
        "outputId": "04eb99f2-ccb8-4945-b994-ec68dc21bf19"
      },
      "outputs": [
        {
          "output_type": "stream",
          "name": "stdout",
          "text": [
            "          X     Y   sinx  cosx  sin2x  cos2x  ysinx  ycosx  ysin2x  ycos2x\n",
            "0  0.000000  1.98  0.000   1.0  0.000    1.0  0.000  1.980   0.000   1.980\n",
            "1  1.047198  1.30  0.866   0.5  0.866   -0.5  1.126  0.650   1.126  -0.650\n",
            "2  2.094395  1.05  0.866  -0.5 -0.866   -0.5  0.909 -0.525  -0.909  -0.525\n",
            "3  3.141593  1.30  0.000  -1.0 -0.000    1.0  0.000 -1.300  -0.000   1.300\n",
            "4  4.188790 -0.88 -0.866  -0.5  0.866   -0.5  0.762  0.440  -0.762   0.440\n",
            "5  5.235988 -0.25 -0.866   0.5 -0.866   -0.5  0.217 -0.125   0.217   0.125\n"
          ]
        }
      ],
      "source": [
        "from statistics import mean\n",
        "import math as gg\n",
        "import pandas as pd\n",
        "pi=gg.pi\n",
        "df = pd.DataFrame({'X': [0,pi/3,2*pi/3,pi,4*pi/3,5*pi/3],\n",
        "                   'Y': [1.98,1.30,1.05,1.30,-0.88,-0.25],\n",
        "                   })\n",
        "\n",
        "df['sinx'] = df.apply(lambda row: round(gg.sin(row.X),3), axis = 1 )\n",
        "df['cosx'] = df.apply(lambda row: round(gg.cos(row.X),3), axis = 1 )\n",
        "df['sin2x'] = df.apply(lambda row: round(gg.sin(2*row.X),3), axis = 1 )\n",
        "df['cos2x'] = df.apply(lambda row: round(gg.cos(2*row.X),3), axis = 1 )\n",
        "#df['sin3x'] = df.apply(lambda row: round(gg.sin(3*row.X),3), axis = 1 )\n",
        "#df['cos3x'] = df.apply(lambda row: round(gg.cos(3*row.X),3), axis = 1 )\n",
        "\n",
        "df['ysinx'] = df.apply(lambda row: round(row.Y * gg.sin(row.X),3), axis = 1 )\n",
        "df['ycosx'] = df.apply(lambda row: round(row.Y * gg.cos(row.X),3), axis = 1 )\n",
        "df['ysin2x'] = df.apply(lambda row: round(row.Y * gg.sin(2*row.X),3), axis = 1 )\n",
        "df['ycos2x'] = df.apply(lambda row: round(row.Y * gg.cos(2*row.X),3), axis = 1 )\n",
        "#df['ysin3x'] = df.apply(lambda row: round(row.Y * gg.sin(3*row.X),3), axis = 1 )\n",
        "#df['ycos3x'] = df.apply(lambda row: round(row.Y * gg.cos(3*row.X),3), axis = 1 )\n",
        "df.to_csv('harmonics.csv')\n",
        "print(df)"
      ]
    },
    {
      "cell_type": "code",
      "source": [
        "def get_mean(column_):\n",
        "  mean_y=0\n",
        "  sum_y=0\n",
        "  for i in column_:\n",
        "    sum_y+=i\n",
        "  mean_y=sum_y/len(list(column_))\n",
        "  return mean_y\n"
      ],
      "metadata": {
        "id": "SIZZVYE07L5u"
      },
      "execution_count": null,
      "outputs": []
    },
    {
      "cell_type": "code",
      "source": [
        "a0=get_mean(df['Y'])*2\n",
        "a0"
      ],
      "metadata": {
        "id": "4msWg85AxoZD",
        "colab": {
          "base_uri": "https://localhost:8080/"
        },
        "outputId": "c522126f-5c22-44fd-e624-b460cd93b5dc"
      },
      "execution_count": null,
      "outputs": [
        {
          "output_type": "execute_result",
          "data": {
            "text/plain": [
              "1.5"
            ]
          },
          "metadata": {},
          "execution_count": 22
        }
      ]
    },
    {
      "cell_type": "code",
      "source": [
        "a1=get_mean(df['ycosx'])*2\n",
        "a1"
      ],
      "metadata": {
        "id": "M581KD--7rpB",
        "colab": {
          "base_uri": "https://localhost:8080/"
        },
        "outputId": "9604ec45-9f7d-4516-e5ec-f0f92f7534bb"
      },
      "execution_count": null,
      "outputs": [
        {
          "output_type": "execute_result",
          "data": {
            "text/plain": [
              "0.3733333333333333"
            ]
          },
          "metadata": {},
          "execution_count": 23
        }
      ]
    },
    {
      "cell_type": "code",
      "source": [
        "a2=get_mean(df['ycos2x'])*2\n",
        "a2"
      ],
      "metadata": {
        "id": "0n1yc_mh71xR",
        "colab": {
          "base_uri": "https://localhost:8080/"
        },
        "outputId": "8b10ef84-00d7-41e4-f972-81a3a45b2619"
      },
      "execution_count": null,
      "outputs": [
        {
          "output_type": "execute_result",
          "data": {
            "text/plain": [
              "0.89"
            ]
          },
          "metadata": {},
          "execution_count": 27
        }
      ]
    },
    {
      "cell_type": "code",
      "source": [
        "b1=get_mean(df['ysinx'])*2\n",
        "b1"
      ],
      "metadata": {
        "id": "eGHLtR2I774z",
        "colab": {
          "base_uri": "https://localhost:8080/"
        },
        "outputId": "9912009a-d41a-4ec4-f113-379bbbcd6c45"
      },
      "execution_count": null,
      "outputs": [
        {
          "output_type": "execute_result",
          "data": {
            "text/plain": [
              "1.0046666666666668"
            ]
          },
          "metadata": {},
          "execution_count": 28
        }
      ]
    },
    {
      "cell_type": "code",
      "source": [
        "b2=get_mean(df['ysin2x'])*2\n",
        "b2"
      ],
      "metadata": {
        "id": "mva8_y6W8DqF",
        "colab": {
          "base_uri": "https://localhost:8080/"
        },
        "outputId": "93ece3d0-30f0-4c39-d585-4e810cee01f1"
      },
      "execution_count": null,
      "outputs": [
        {
          "output_type": "execute_result",
          "data": {
            "text/plain": [
              "-0.1093333333333334"
            ]
          },
          "metadata": {},
          "execution_count": 29
        }
      ]
    },
    {
      "cell_type": "code",
      "source": [
        "#a3=get_mean(df['ycos3x'])*2"
      ],
      "metadata": {
        "id": "7bC8WNDX8I7o"
      },
      "execution_count": null,
      "outputs": []
    },
    {
      "cell_type": "code",
      "source": [
        "#b3=get_mean(df['ysin3x'])*2"
      ],
      "metadata": {
        "id": "V5nLxHIf-Sh1"
      },
      "execution_count": null,
      "outputs": []
    }
  ]
}